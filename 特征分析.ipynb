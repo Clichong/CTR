{
 "cells": [
  {
   "cell_type": "code",
   "execution_count": 2,
   "id": "6e2ae691",
   "metadata": {},
   "outputs": [],
   "source": [
    "import numpy as np\n",
    "import pandas as pd"
   ]
  },
  {
   "cell_type": "markdown",
   "id": "18820df6",
   "metadata": {},
   "source": [
    "# 源域特征分析"
   ]
  },
  {
   "cell_type": "code",
   "execution_count": 3,
   "id": "1d47a5d2",
   "metadata": {},
   "outputs": [],
   "source": [
    "# 导入数据\n",
    "source_test = pd.read_csv('ctr_data/test/test_data_feeds.csv')\n",
    "source_train = pd.read_csv('ctr_data/train/train_data_feeds.csv')"
   ]
  },
  {
   "cell_type": "code",
   "execution_count": 31,
   "id": "40a75229",
   "metadata": {},
   "outputs": [
    {
     "data": {
      "text/plain": [
       "(3227732, 369341)"
      ]
     },
     "execution_count": 31,
     "metadata": {},
     "output_type": "execute_result"
    }
   ],
   "source": [
    "# 训练集两个域的数量\n",
    "len(source_train), len(source_test)"
   ]
  },
  {
   "cell_type": "code",
   "execution_count": 11,
   "id": "2e069d35",
   "metadata": {},
   "outputs": [
    {
     "data": {
      "text/plain": [
       "(180123, 51162)"
      ]
     },
     "execution_count": 11,
     "metadata": {},
     "output_type": "execute_result"
    }
   ],
   "source": [
    "# 查看训练集与测试集的id唯一标识数量\n",
    "source_train_id = source_train['u_userId'].unique()\n",
    "source_test_id = source_test['u_userId'].unique()\n",
    "len(source_train_id), len(source_test_id)"
   ]
  },
  {
   "cell_type": "code",
   "execution_count": 14,
   "id": "8d21accc",
   "metadata": {},
   "outputs": [
    {
     "data": {
      "text/plain": [
       "False"
      ]
     },
     "execution_count": 14,
     "metadata": {},
     "output_type": "execute_result"
    }
   ],
   "source": [
    "# 判断训练集是否包含测试集\n",
    "np.array([id in source_train_id for id in source_test_id]).all()"
   ]
  },
  {
   "cell_type": "code",
   "execution_count": 6,
   "id": "5c48f85a",
   "metadata": {},
   "outputs": [
    {
     "data": {
      "text/plain": [
       "(3227732, 3663)"
      ]
     },
     "execution_count": 6,
     "metadata": {},
     "output_type": "execute_result"
    }
   ],
   "source": [
    "# 统计源域训练数据的时间搓\n",
    "len(source_train), len(source_train.e_et.unique())"
   ]
  },
  {
   "cell_type": "markdown",
   "id": "3cd0a3fa",
   "metadata": {},
   "source": [
    "# 目标域特征分析"
   ]
  },
  {
   "cell_type": "code",
   "execution_count": 12,
   "id": "55e07b19",
   "metadata": {},
   "outputs": [],
   "source": [
    "# 导入数据\n",
    "target_test = pd.read_csv('ctr_data/test/test_data_ads.csv')\n",
    "target_train = pd.read_csv('ctr_data/train/train_data_ads.csv')"
   ]
  },
  {
   "cell_type": "code",
   "execution_count": 29,
   "id": "704548f2",
   "metadata": {},
   "outputs": [
    {
     "data": {
      "text/plain": [
       "(7675517, 976058)"
      ]
     },
     "execution_count": 29,
     "metadata": {},
     "output_type": "execute_result"
    }
   ],
   "source": [
    "# 训练集两个域的数量\n",
    "len(target_train), len(target_test)"
   ]
  },
  {
   "cell_type": "code",
   "execution_count": 13,
   "id": "06e36540",
   "metadata": {},
   "outputs": [
    {
     "data": {
      "text/plain": [
       "(65297, 28771)"
      ]
     },
     "execution_count": 13,
     "metadata": {},
     "output_type": "execute_result"
    }
   ],
   "source": [
    "# 查看训练集与测试集的id唯一标识数量\n",
    "target_train_id = target_train['user_id'].unique()\n",
    "target_test_id = target_test['user_id'].unique()\n",
    "len(target_train_id), len(target_test_id)"
   ]
  },
  {
   "cell_type": "code",
   "execution_count": 22,
   "id": "03ac686e",
   "metadata": {},
   "outputs": [
    {
     "data": {
      "text/plain": [
       "False"
      ]
     },
     "execution_count": 22,
     "metadata": {},
     "output_type": "execute_result"
    }
   ],
   "source": [
    "# 判断训练集是否包含测试集\n",
    "np.array([id in target_train_id for id in target_test_id]).all()"
   ]
  },
  {
   "cell_type": "markdown",
   "id": "868f20f3",
   "metadata": {},
   "source": [
    "# 跨域特征分析"
   ]
  },
  {
   "cell_type": "code",
   "execution_count": 24,
   "id": "efbfe532",
   "metadata": {},
   "outputs": [
    {
     "data": {
      "text/plain": [
       "True"
      ]
     },
     "execution_count": 24,
     "metadata": {},
     "output_type": "execute_result"
    }
   ],
   "source": [
    "# 训练集：判断源域的目标id是否包含目标域的用户id\n",
    "np.array([id in source_train_id for id in target_train_id]).all()"
   ]
  },
  {
   "cell_type": "code",
   "execution_count": 26,
   "id": "26b9f9f9",
   "metadata": {},
   "outputs": [
    {
     "data": {
      "text/plain": [
       "True"
      ]
     },
     "execution_count": 26,
     "metadata": {},
     "output_type": "execute_result"
    }
   ],
   "source": [
    "# 测试集：判断源域的目标id是否包含目标域的用户id\n",
    "np.array([id in source_test_id for id in target_test_id]).all()"
   ]
  },
  {
   "cell_type": "markdown",
   "id": "9e81c5fe",
   "metadata": {},
   "source": [
    "分析：无论是训练集还是测试集，对于媒体这个领域的用户id号是均完全涵盖广告的用户id，并且还有一些其他用户行为在源域中"
   ]
  },
  {
   "cell_type": "code",
   "execution_count": 14,
   "id": "0fc45a82",
   "metadata": {},
   "outputs": [
    {
     "data": {
      "text/plain": [
       "False"
      ]
     },
     "execution_count": 14,
     "metadata": {},
     "output_type": "execute_result"
    }
   ],
   "source": [
    "# 源域数据：源域的测试集用户是否被包含在源域的训练集中\n",
    "np.array([id in source_train_id for id in source_test_id]).all()"
   ]
  },
  {
   "cell_type": "code",
   "execution_count": 15,
   "id": "1f75fd9b",
   "metadata": {},
   "outputs": [
    {
     "data": {
      "text/plain": [
       "False"
      ]
     },
     "execution_count": 15,
     "metadata": {},
     "output_type": "execute_result"
    }
   ],
   "source": [
    "# 目标域数据：目标域的测试集用户是否被包含在目标域的训练集中\n",
    "np.array([id in target_train_id for id in target_test_id]).all()"
   ]
  },
  {
   "cell_type": "markdown",
   "id": "79948bba",
   "metadata": {},
   "source": [
    "分析：无论是源域还是目标域的数据集，其测试集都会出现训练集没有出现过的用户ID"
   ]
  },
  {
   "cell_type": "code",
   "execution_count": 40,
   "id": "ed0448e6",
   "metadata": {},
   "outputs": [
    {
     "data": {
      "text/plain": [
       "(2475843, 286167)"
      ]
     },
     "execution_count": 40,
     "metadata": {},
     "output_type": "execute_result"
    }
   ],
   "source": [
    "# 统计源域中只使用那些重叠的用户数据量\n",
    "source_train_overlap = source_train[source_train['u_userId'].isin(target_train_id)]\n",
    "source_test_overlap = source_test[source_test['u_userId'].isin(target_test_id)]\n",
    "len(source_train_overlap), len(source_test_overlap)"
   ]
  },
  {
   "cell_type": "markdown",
   "id": "ae4be47c",
   "metadata": {},
   "source": [
    "分析：如果只考虑重叠的用户，那么源域训练集可用的数据量由原来的3227732降到2475843，源域测试集可用的数据量由原来的369341降到286167"
   ]
  }
 ],
 "metadata": {
  "kernelspec": {
   "display_name": "Python 3 (ipykernel)",
   "language": "python",
   "name": "python3"
  },
  "language_info": {
   "codemirror_mode": {
    "name": "ipython",
    "version": 3
   },
   "file_extension": ".py",
   "mimetype": "text/x-python",
   "name": "python",
   "nbconvert_exporter": "python",
   "pygments_lexer": "ipython3",
   "version": "3.9.7"
  },
  "toc": {
   "base_numbering": 1,
   "nav_menu": {},
   "number_sections": true,
   "sideBar": true,
   "skip_h1_title": false,
   "title_cell": "Table of Contents",
   "title_sidebar": "Contents",
   "toc_cell": false,
   "toc_position": {},
   "toc_section_display": true,
   "toc_window_display": false
  }
 },
 "nbformat": 4,
 "nbformat_minor": 5
}
